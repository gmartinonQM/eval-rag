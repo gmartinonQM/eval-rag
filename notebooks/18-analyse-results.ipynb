{
 "cells": [
  {
   "cell_type": "code",
   "execution_count": null,
   "id": "0",
   "metadata": {},
   "outputs": [],
   "source": [
    "import numpy as np\n",
    "import pandas as pd\n",
    "import plotly.express as px\n",
    "import plotly.graph_objects as go\n",
    "from scipy.stats import norm"
   ]
  },
  {
   "cell_type": "code",
   "execution_count": null,
   "id": "1",
   "metadata": {},
   "outputs": [],
   "source": [
    "pd.set_option(\"display.width\", 500)\n",
    "pd.set_option(\"display.max_columns\", 500)\n",
    "pd.set_option(\"display.max_rows\", 500)\n",
    "pd.set_option(\"display.max_colwidth\", 1000)"
   ]
  },
  {
   "cell_type": "markdown",
   "id": "2",
   "metadata": {},
   "source": [
    "# Paramètres"
   ]
  },
  {
   "cell_type": "code",
   "execution_count": null,
   "id": "3",
   "metadata": {},
   "outputs": [],
   "source": [
    "ALPHA = 0.05\n",
    "Z_NORM = norm.ppf(1 - ALPHA / 2)\n",
    "THEMES = [\"Finance\", \"IT\", \"RH\"]\n",
    "COMPLEXITIES = [\"simple\", \"intermédiaire\", \"difficile\", \"inappropriée\"]"
   ]
  },
  {
   "cell_type": "markdown",
   "id": "4",
   "metadata": {},
   "source": [
    "# Maille réponse"
   ]
  },
  {
   "cell_type": "code",
   "execution_count": null,
   "id": "5",
   "metadata": {},
   "outputs": [],
   "source": [
    "file_path = \"../data/05_anonymised/answers_anonymised.json\"\n",
    "answers = pd.read_json(file_path, orient=\"records\")"
   ]
  },
  {
   "cell_type": "markdown",
   "id": "6",
   "metadata": {},
   "source": [
    "## Nettoyage"
   ]
  },
  {
   "cell_type": "markdown",
   "id": "7",
   "metadata": {},
   "source": [
    "#### Filtrage des thèmes"
   ]
  },
  {
   "cell_type": "code",
   "execution_count": null,
   "id": "8",
   "metadata": {},
   "outputs": [],
   "source": [
    "themes_to_keep = [\"Financial\", \"HR\", \"IT\"]\n",
    "where = answers[\"thème\"].isin(themes_to_keep)\n",
    "answers = answers[where]"
   ]
  },
  {
   "cell_type": "markdown",
   "id": "9",
   "metadata": {},
   "source": [
    "#### Renommage des thèmes"
   ]
  },
  {
   "cell_type": "code",
   "execution_count": null,
   "id": "10",
   "metadata": {},
   "outputs": [],
   "source": [
    "answers[\"thème\"] = answers[\"thème\"].replace({\"Financial\": \"Finance\", \"HR\": \"RH\"})"
   ]
  },
  {
   "cell_type": "markdown",
   "id": "11",
   "metadata": {},
   "source": [
    "#### Imputation des complexités manquantes"
   ]
  },
  {
   "cell_type": "code",
   "execution_count": null,
   "id": "12",
   "metadata": {},
   "outputs": [],
   "source": [
    "answers[\"complexité\"] = answers[\"complexité\"].fillna(\"inappropriée\")"
   ]
  },
  {
   "cell_type": "markdown",
   "id": "13",
   "metadata": {},
   "source": [
    "# Maille phrase"
   ]
  },
  {
   "cell_type": "code",
   "execution_count": null,
   "id": "14",
   "metadata": {},
   "outputs": [],
   "source": [
    "file_path = \"../data/05_anonymised/sentences_anonymised.json\"\n",
    "sentences = pd.read_json(file_path, orient=\"records\")"
   ]
  },
  {
   "cell_type": "markdown",
   "id": "15",
   "metadata": {},
   "source": [
    "#### Filtrage des thèmes"
   ]
  },
  {
   "cell_type": "code",
   "execution_count": null,
   "id": "16",
   "metadata": {},
   "outputs": [],
   "source": [
    "themes_to_keep = [\"Financial\", \"HR\", \"IT\"]\n",
    "where = sentences[\"thème\"].isin(themes_to_keep)\n",
    "sentences = sentences[where]"
   ]
  },
  {
   "cell_type": "markdown",
   "id": "17",
   "metadata": {},
   "source": [
    "#### Renommage des thèmes"
   ]
  },
  {
   "cell_type": "code",
   "execution_count": null,
   "id": "18",
   "metadata": {},
   "outputs": [],
   "source": [
    "sentences[\"thème\"] = sentences[\"thème\"].replace({\"Financial\": \"Finance\", \"HR\": \"RH\"})"
   ]
  },
  {
   "cell_type": "markdown",
   "id": "19",
   "metadata": {},
   "source": [
    "#### Imputation des complexités manquantes"
   ]
  },
  {
   "cell_type": "code",
   "execution_count": null,
   "id": "20",
   "metadata": {},
   "outputs": [],
   "source": [
    "sentences[\"complexité\"] = sentences[\"complexité\"].fillna(\"inappropriée\")"
   ]
  },
  {
   "cell_type": "markdown",
   "id": "21",
   "metadata": {},
   "source": [
    "## Taux de langue correcte"
   ]
  },
  {
   "cell_type": "code",
   "execution_count": null,
   "id": "22",
   "metadata": {},
   "outputs": [],
   "source": [
    "column = \"answer_is_not_english\"\n",
    "sizes = answers.groupby([\"complexité\", \"thème\"])[column].count()\n",
    "proportions = answers.groupby([\"complexité\", \"thème\"])[column].mean()\n",
    "uncertainties = Z_NORM*np.sqrt(proportions * (1 - proportions) / sizes)"
   ]
  },
  {
   "cell_type": "code",
   "execution_count": null,
   "id": "23",
   "metadata": {},
   "outputs": [],
   "source": [
    "palette = px.colors.sequential.Reds\n",
    "colors = {complexity: palette[i] for i, complexity in enumerate(COMPLEXITIES)}\n",
    "fig = go.Figure()\n",
    "for complexity in COMPLEXITIES:\n",
    "    fig.add_trace(\n",
    "        go.Bar(           \n",
    "            x=proportions[complexity].index,\n",
    "            y=proportions[complexity],\n",
    "            name=complexity,\n",
    "            marker_color=colors[complexity],\n",
    "            error_y=dict(type=\"data\", array=uncertainties[complexity], visible=True)\n",
    "        )\n",
    "    )\n",
    "\n",
    "fig.update_layout(\n",
    "    xaxis_title=\"Thème\",\n",
    "    yaxis_title=\"Taux de langue correcte\",\n",
    "    font=dict(family=\"Computer Modern\", size=20, color=\"#7f7f7f\"),\n",
    ")"
   ]
  },
  {
   "cell_type": "markdown",
   "id": "24",
   "metadata": {},
   "source": [
    "## Taux de réponse"
   ]
  },
  {
   "cell_type": "code",
   "execution_count": null,
   "id": "25",
   "metadata": {},
   "outputs": [],
   "source": [
    "column = \"answers_has_source\"\n",
    "sizes = answers.groupby([\"complexité\", \"thème\"])[column].count()\n",
    "proportions = answers.groupby([\"complexité\", \"thème\"])[column].mean()\n",
    "uncertainties = Z_NORM*np.sqrt(proportions * (1 - proportions) / sizes)"
   ]
  },
  {
   "cell_type": "code",
   "execution_count": null,
   "id": "26",
   "metadata": {},
   "outputs": [],
   "source": [
    "palette = px.colors.sequential.Reds\n",
    "colors = {complexity: palette[i] for i, complexity in enumerate(COMPLEXITIES)}\n",
    "fig = go.Figure()\n",
    "for complexity in COMPLEXITIES:\n",
    "    fig.add_trace(\n",
    "        go.Bar(           \n",
    "            x=proportions[complexity].index,\n",
    "            y=proportions[complexity],\n",
    "            name=complexity,\n",
    "            marker_color=colors[complexity],\n",
    "            error_y=dict(type=\"data\", array=uncertainties[complexity], visible=True)\n",
    "        )\n",
    "    )\n",
    "\n",
    "fig.update_layout(\n",
    "    xaxis_title=\"Thème\",\n",
    "    yaxis_title=\"Taux de réponse\",\n",
    "    font=dict(family=\"Computer Modern\", size=20, color=\"#7f7f7f\"),\n",
    ")"
   ]
  },
  {
   "cell_type": "markdown",
   "id": "27",
   "metadata": {},
   "source": [
    "## Taux de citations fonctionnelles"
   ]
  },
  {
   "cell_type": "code",
   "execution_count": null,
   "id": "28",
   "metadata": {},
   "outputs": [],
   "source": [
    "column = \"source_ids_in_sentences_hallucinated\"\n",
    "sizes = sentences.groupby([\"complexité\", \"thème\"])[column].count()\n",
    "proportions = 1 - sentences.groupby([\"complexité\", \"thème\"])[column].mean()\n",
    "uncertainties = Z_NORM*np.sqrt(proportions * (1 - proportions) / sizes)"
   ]
  },
  {
   "cell_type": "code",
   "execution_count": null,
   "id": "29",
   "metadata": {},
   "outputs": [],
   "source": [
    "palette = px.colors.sequential.Reds\n",
    "colors = {complexity: palette[i] for i, complexity in enumerate(COMPLEXITIES)}\n",
    "fig = go.Figure()\n",
    "for complexity in COMPLEXITIES:\n",
    "    fig.add_trace(\n",
    "        go.Bar(           \n",
    "            x=proportions[complexity].index,\n",
    "            y=proportions[complexity],\n",
    "            name=complexity,\n",
    "            marker_color=colors[complexity],\n",
    "            error_y=dict(type=\"data\", array=uncertainties[complexity], visible=True)\n",
    "        )\n",
    "    )\n",
    "\n",
    "fig.update_layout(\n",
    "    xaxis_title=\"Thème\",\n",
    "    yaxis_title=\"Taux de citations fonctionnelles\",\n",
    "    font=dict(family=\"Computer Modern\", size=20, color=\"#7f7f7f\"),\n",
    ")"
   ]
  },
  {
   "cell_type": "code",
   "execution_count": null,
   "id": "30",
   "metadata": {},
   "outputs": [],
   "source": []
  }
 ],
 "metadata": {
  "kernelspec": {
   "display_name": "Python 3 (ipykernel)",
   "language": "python",
   "name": "python3"
  },
  "language_info": {
   "codemirror_mode": {
    "name": "ipython",
    "version": 3
   },
   "file_extension": ".py",
   "mimetype": "text/x-python",
   "name": "python",
   "nbconvert_exporter": "python",
   "pygments_lexer": "ipython3",
   "version": "3.12.9"
  }
 },
 "nbformat": 4,
 "nbformat_minor": 5
}
